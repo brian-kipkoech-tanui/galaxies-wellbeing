{
 "cells": [
  {
   "cell_type": "markdown",
   "metadata": {},
   "source": [
    "# Data Analysis and Machine Learning Project\n",
    "\n",
    "This project demonstrates the usage of numpy, pandas, and scikit-learn (sklearn) libraries for data manipulation, analysis, and machine learning modeling.\n",
    "\n",
    "## Installation\n",
    "\n",
    "To run this project, you need to have Python installed on your system along with numpy, pandas, and scikit-learn libraries.\n",
    "\n",
    "You can install numpy, pandas, and scikit-learn using pip:\n",
    "\n",
    "```bash\n",
    "pip install numpy pandas scikit-learn\n",
    "```\n",
    "\n",
    "## Usage\n",
    "\n",
    "1. Clone this repository to your local machine.\n",
    "2. Install the required dependencies as mentioned above.\n",
    "3. Run the Python script `main.py` to execute the demonstration.\n",
    "\n",
    "## Description\n",
    "\n",
    "This project contains Python scripts demonstrating basic usage of numpy, pandas, and scikit-learn libraries:\n",
    "\n",
    "- `main.py`: This script contains example code for basic operations using numpy, pandas, and scikit-learn models.\n",
    "- `data.csv`: Sample CSV file used for demonstration purposes.\n",
    "\n",
    "### Maximum Uses in Data\n",
    "\n",
    "1. **numpy**: Used for numerical computing and handling multi-dimensional arrays efficiently. Commonly used for data preprocessing, manipulation, and mathematical operations.\n",
    "2. **pandas**: Used for data manipulation and analysis, especially with tabular data. Commonly used for data cleaning, exploration, and transformation.\n",
    "3. **scikit-learn (sklearn)**: Used for machine learning tasks such as classification, regression, clustering, and dimensionality reduction. Provides efficient tools for model training, evaluation, and deployment.\n",
    "\n",
    "## License\n",
    "\n",
    "This project is licensed under the MIT License - see the [LICENSE](LICENSE) file for details.\n",
    "\n",
    "## Contributing\n",
    "\n",
    "Contributions are welcome! Feel free to submit pull requests.\n",
    "\n",
    "## Acknowledgments\n",
    "\n",
    "- [numpy](https://numpy.org/): Library for numerical computing with Python.\n",
    "- [pandas](https://pandas.pydata.org/): Library providing data structures and data analysis tools for Python.\n",
    "- [scikit-learn](https://scikit-learn.org/): Simple and efficient tools for data mining and data analysis.\n",
    "```"
   ]
  },
  {
   "cell_type": "code",
   "execution_count": 1,
   "metadata": {},
   "outputs": [],
   "source": [
    "import numpy as np\n",
    "import pandas as pd\n",
    "import warnings\n",
    "\n",
    "warnings.filterwarnings(\"ignore\")"
   ]
  },
  {
   "cell_type": "markdown",
   "metadata": {},
   "source": [
    "The Python code below defines a function called `unzip_file` that is used to extract the contents of a zip file to a specified destination folder. Here's an explanation of each part of the code:\n",
    "\n",
    "1. `import zipfile`: This line imports the `zipfile` module, which provides tools for creating, reading, writing, and extracting ZIP archives.\n",
    "\n",
    "2. `import os`: This line imports the `os` module, which provides a portable way of using operating system-dependent functionality, such as working with directories and files.\n",
    "\n",
    "3. `def unzip_file(zip_file, destination):`: This line defines a function named `unzip_file` that takes two parameters:\n",
    "   - `zip_file`: The path to the ZIP file that needs to be extracted.\n",
    "   - `destination`: The directory where the contents of the ZIP file will be extracted.\n",
    "\n",
    "4. `with zipfile.ZipFile(zip_file, 'r') as zip_ref:`: This line opens the specified ZIP file (`zip_file`) in read mode (`'r'`) using the `ZipFile` class from the `zipfile` module. It also uses a `with` statement, which ensures that the file is properly closed after its suite finishes, even if an exception is raised during the process. The opened ZIP file object is assigned to the variable `zip_ref`.\n",
    "\n",
    "5. `zip_ref.extractall(destination)`: This line extracts all the contents of the opened ZIP file (`zip_ref`) into the specified destination folder (`destination`). The `extractall()` method extracts all files and directories from the ZIP archive to the current working directory or the directory specified by `path`.\n",
    "\n",
    "6. `zip_file = 'MSC DSA Scholars Exam Data (1).zip'`: This line defines the path to the ZIP file that needs to be extracted.\n",
    "\n",
    "7. `destination = './'`: This line defines the destination directory where the contents of the ZIP file will be extracted. In this case, it's set to the current directory (`'./'`).\n",
    "\n",
    "8. `if not os.path.exists(destination):`: This line checks if the specified destination directory does not exist.\n",
    "\n",
    "9. `os.makedirs(destination)`: If the destination directory does not exist, this line creates the directory along with any necessary parent directories. This ensures that the destination directory exists before extracting the ZIP file.\n",
    "\n",
    "10. `unzip_file(zip_file, destination)`: This line calls the `unzip_file` function, passing the path to the ZIP file and the destination directory as arguments, which triggers the extraction process.\n",
    "\n",
    "Overall, this code provides a convenient way to extract the contents of a ZIP file using Python."
   ]
  },
  {
   "cell_type": "code",
   "execution_count": 2,
   "metadata": {},
   "outputs": [],
   "source": [
    "import zipfile\n",
    "import os\n",
    "\n",
    "def unzip_file(zip_file, destination):\n",
    "    with zipfile.ZipFile(zip_file, 'r') as zip_ref:\n",
    "        zip_ref.extractall(destination)\n",
    "\n",
    "# Example usage\n",
    "zip_file = 'MSC DSA Scholars Exam Data (1).zip'\n",
    "destination = './'\n",
    "\n",
    "if not os.path.exists(destination):\n",
    "    os.makedirs(destination)\n",
    "\n",
    "unzip_file(zip_file, destination)\n"
   ]
  },
  {
   "cell_type": "code",
   "execution_count": 3,
   "metadata": {},
   "outputs": [],
   "source": [
    "train_data = pd.read_csv('./Data/train_data.csv')\n",
    "test_data = pd.read_csv('./Data/validation.csv')"
   ]
  },
  {
   "cell_type": "code",
   "execution_count": 4,
   "metadata": {},
   "outputs": [],
   "source": [
    "def missing_percentage(df):\n",
    "    # Count the number of missing values in each column\n",
    "    missing_values = df.isnull().sum()\n",
    "\n",
    "    # Total number of rows in the dataframe\n",
    "    total_rows = len(df)\n",
    "\n",
    "    # Calculate the percentage of missing values in each column\n",
    "    percentage_missing_values = (missing_values / total_rows) * 100\n",
    "    return  percentage_missing_values"
   ]
  },
  {
   "cell_type": "code",
   "execution_count": 5,
   "metadata": {},
   "outputs": [],
   "source": [
    "train_missing = missing_percentage(train_data)\n",
    "test_missing = missing_percentage(test_data)\n"
   ]
  },
  {
   "cell_type": "code",
   "execution_count": 6,
   "metadata": {},
   "outputs": [],
   "source": [
    "train_missing = train_missing.reset_index().rename(columns={'index': 'column', 0: 'missing%'})"
   ]
  },
  {
   "cell_type": "code",
   "execution_count": 7,
   "metadata": {},
   "outputs": [],
   "source": [
    "cols = train_missing[train_missing['missing%']>70]['column'].to_list()"
   ]
  },
  {
   "cell_type": "code",
   "execution_count": 8,
   "metadata": {},
   "outputs": [],
   "source": [
    "train_data.drop(cols, axis=1, inplace=True)"
   ]
  },
  {
   "cell_type": "code",
   "execution_count": 9,
   "metadata": {},
   "outputs": [
    {
     "data": {
      "text/html": [
       "<div>\n",
       "<style scoped>\n",
       "    .dataframe tbody tr th:only-of-type {\n",
       "        vertical-align: middle;\n",
       "    }\n",
       "\n",
       "    .dataframe tbody tr th {\n",
       "        vertical-align: top;\n",
       "    }\n",
       "\n",
       "    .dataframe thead th {\n",
       "        text-align: right;\n",
       "    }\n",
       "</style>\n",
       "<table border=\"1\" class=\"dataframe\">\n",
       "  <thead>\n",
       "    <tr style=\"text-align: right;\">\n",
       "      <th></th>\n",
       "      <th>ID</th>\n",
       "      <th>galactic year</th>\n",
       "      <th>galaxy</th>\n",
       "      <th>existence expectancy index</th>\n",
       "      <th>existence expectancy at birth</th>\n",
       "      <th>Gross income per capita</th>\n",
       "      <th>Income Index</th>\n",
       "      <th>Expected years of education (galactic years)</th>\n",
       "      <th>Mean years of education (galactic years)</th>\n",
       "      <th>Intergalactic Development Index (IDI)</th>\n",
       "      <th>Education Index</th>\n",
       "      <th>Intergalactic Development Index (IDI), Rank</th>\n",
       "      <th>Population using at least basic drinking-water services (%)</th>\n",
       "      <th>Population using at least basic sanitation services (%)</th>\n",
       "      <th>Predicted Well-Being Index</th>\n",
       "    </tr>\n",
       "  </thead>\n",
       "  <tbody>\n",
       "    <tr>\n",
       "      <th>0</th>\n",
       "      <td>886447</td>\n",
       "      <td>1004004</td>\n",
       "      <td>Andromeda Galaxy (M31)</td>\n",
       "      <td>0.803915</td>\n",
       "      <td>82.718434</td>\n",
       "      <td>17299.57148</td>\n",
       "      <td>0.691448</td>\n",
       "      <td>16.083635</td>\n",
       "      <td>11.282011</td>\n",
       "      <td>0.715746</td>\n",
       "      <td>0.745786</td>\n",
       "      <td>191.852274</td>\n",
       "      <td>70.135059</td>\n",
       "      <td>65.908117</td>\n",
       "      <td>NaN</td>\n",
       "    </tr>\n",
       "    <tr>\n",
       "      <th>1</th>\n",
       "      <td>687564</td>\n",
       "      <td>1005006</td>\n",
       "      <td>Andromeda Galaxy (M31)</td>\n",
       "      <td>0.860011</td>\n",
       "      <td>73.682279</td>\n",
       "      <td>24971.71631</td>\n",
       "      <td>0.669550</td>\n",
       "      <td>12.858577</td>\n",
       "      <td>10.493260</td>\n",
       "      <td>0.727915</td>\n",
       "      <td>0.806982</td>\n",
       "      <td>172.983630</td>\n",
       "      <td>67.810196</td>\n",
       "      <td>57.864919</td>\n",
       "      <td>NaN</td>\n",
       "    </tr>\n",
       "    <tr>\n",
       "      <th>2</th>\n",
       "      <td>494935</td>\n",
       "      <td>1006009</td>\n",
       "      <td>Andromeda Galaxy (M31)</td>\n",
       "      <td>0.810644</td>\n",
       "      <td>68.456526</td>\n",
       "      <td>15943.82977</td>\n",
       "      <td>0.766118</td>\n",
       "      <td>14.236676</td>\n",
       "      <td>9.962169</td>\n",
       "      <td>0.757072</td>\n",
       "      <td>0.852921</td>\n",
       "      <td>180.488519</td>\n",
       "      <td>88.523680</td>\n",
       "      <td>71.524010</td>\n",
       "      <td>NaN</td>\n",
       "    </tr>\n",
       "    <tr>\n",
       "      <th>3</th>\n",
       "      <td>378919</td>\n",
       "      <td>1015056</td>\n",
       "      <td>Andromeda Galaxy (M31)</td>\n",
       "      <td>0.837170</td>\n",
       "      <td>68.742404</td>\n",
       "      <td>20952.63665</td>\n",
       "      <td>0.757196</td>\n",
       "      <td>14.281498</td>\n",
       "      <td>10.329880</td>\n",
       "      <td>0.759207</td>\n",
       "      <td>0.801123</td>\n",
       "      <td>186.040542</td>\n",
       "      <td>82.525798</td>\n",
       "      <td>69.342027</td>\n",
       "      <td>NaN</td>\n",
       "    </tr>\n",
       "    <tr>\n",
       "      <th>4</th>\n",
       "      <td>421878</td>\n",
       "      <td>1004004</td>\n",
       "      <td>Andromeda I</td>\n",
       "      <td>0.749034</td>\n",
       "      <td>72.093220</td>\n",
       "      <td>30068.14043</td>\n",
       "      <td>0.641228</td>\n",
       "      <td>12.510524</td>\n",
       "      <td>7.132999</td>\n",
       "      <td>0.673619</td>\n",
       "      <td>0.528564</td>\n",
       "      <td>155.296209</td>\n",
       "      <td>73.688089</td>\n",
       "      <td>55.494078</td>\n",
       "      <td>NaN</td>\n",
       "    </tr>\n",
       "    <tr>\n",
       "      <th>...</th>\n",
       "      <td>...</td>\n",
       "      <td>...</td>\n",
       "      <td>...</td>\n",
       "      <td>...</td>\n",
       "      <td>...</td>\n",
       "      <td>...</td>\n",
       "      <td>...</td>\n",
       "      <td>...</td>\n",
       "      <td>...</td>\n",
       "      <td>...</td>\n",
       "      <td>...</td>\n",
       "      <td>...</td>\n",
       "      <td>...</td>\n",
       "      <td>...</td>\n",
       "      <td>...</td>\n",
       "    </tr>\n",
       "    <tr>\n",
       "      <th>715</th>\n",
       "      <td>389587</td>\n",
       "      <td>1015056</td>\n",
       "      <td>Willman 1</td>\n",
       "      <td>1.010563</td>\n",
       "      <td>92.515213</td>\n",
       "      <td>61890.59381</td>\n",
       "      <td>1.219435</td>\n",
       "      <td>18.016207</td>\n",
       "      <td>13.395910</td>\n",
       "      <td>1.020538</td>\n",
       "      <td>0.871133</td>\n",
       "      <td>99.716757</td>\n",
       "      <td>119.441022</td>\n",
       "      <td>124.641722</td>\n",
       "      <td>NaN</td>\n",
       "    </tr>\n",
       "    <tr>\n",
       "      <th>716</th>\n",
       "      <td>17112</td>\n",
       "      <td>1003002</td>\n",
       "      <td>Wolf-Lundmark-Melotte (WLM, DDO 221)</td>\n",
       "      <td>0.628426</td>\n",
       "      <td>58.772174</td>\n",
       "      <td>26523.82527</td>\n",
       "      <td>0.572390</td>\n",
       "      <td>9.186143</td>\n",
       "      <td>3.807712</td>\n",
       "      <td>0.525476</td>\n",
       "      <td>0.366503</td>\n",
       "      <td>226.243698</td>\n",
       "      <td>66.168323</td>\n",
       "      <td>59.277475</td>\n",
       "      <td>NaN</td>\n",
       "    </tr>\n",
       "    <tr>\n",
       "      <th>717</th>\n",
       "      <td>583782</td>\n",
       "      <td>1004004</td>\n",
       "      <td>Wolf-Lundmark-Melotte (WLM, DDO 221)</td>\n",
       "      <td>0.603825</td>\n",
       "      <td>58.301528</td>\n",
       "      <td>10659.49479</td>\n",
       "      <td>0.629569</td>\n",
       "      <td>7.827124</td>\n",
       "      <td>4.244244</td>\n",
       "      <td>0.615265</td>\n",
       "      <td>0.402917</td>\n",
       "      <td>246.407020</td>\n",
       "      <td>73.400255</td>\n",
       "      <td>40.624599</td>\n",
       "      <td>NaN</td>\n",
       "    </tr>\n",
       "    <tr>\n",
       "      <th>718</th>\n",
       "      <td>823832</td>\n",
       "      <td>1005006</td>\n",
       "      <td>Wolf-Lundmark-Melotte (WLM, DDO 221)</td>\n",
       "      <td>0.574464</td>\n",
       "      <td>53.416728</td>\n",
       "      <td>23157.55806</td>\n",
       "      <td>0.627428</td>\n",
       "      <td>9.626455</td>\n",
       "      <td>6.992821</td>\n",
       "      <td>0.464677</td>\n",
       "      <td>0.402599</td>\n",
       "      <td>214.937772</td>\n",
       "      <td>79.453556</td>\n",
       "      <td>68.800272</td>\n",
       "      <td>NaN</td>\n",
       "    </tr>\n",
       "    <tr>\n",
       "      <th>719</th>\n",
       "      <td>872042</td>\n",
       "      <td>1006009</td>\n",
       "      <td>Wolf-Lundmark-Melotte (WLM, DDO 221)</td>\n",
       "      <td>0.614594</td>\n",
       "      <td>58.751698</td>\n",
       "      <td>24016.06785</td>\n",
       "      <td>0.623884</td>\n",
       "      <td>10.522855</td>\n",
       "      <td>5.472547</td>\n",
       "      <td>0.547071</td>\n",
       "      <td>0.501966</td>\n",
       "      <td>228.390716</td>\n",
       "      <td>76.616666</td>\n",
       "      <td>32.577694</td>\n",
       "      <td>NaN</td>\n",
       "    </tr>\n",
       "  </tbody>\n",
       "</table>\n",
       "<p>720 rows × 15 columns</p>\n",
       "</div>"
      ],
      "text/plain": [
       "         ID  galactic year                                galaxy  \\\n",
       "0    886447        1004004                Andromeda Galaxy (M31)   \n",
       "1    687564        1005006                Andromeda Galaxy (M31)   \n",
       "2    494935        1006009                Andromeda Galaxy (M31)   \n",
       "3    378919        1015056                Andromeda Galaxy (M31)   \n",
       "4    421878        1004004                           Andromeda I   \n",
       "..      ...            ...                                   ...   \n",
       "715  389587        1015056                             Willman 1   \n",
       "716   17112        1003002  Wolf-Lundmark-Melotte (WLM, DDO 221)   \n",
       "717  583782        1004004  Wolf-Lundmark-Melotte (WLM, DDO 221)   \n",
       "718  823832        1005006  Wolf-Lundmark-Melotte (WLM, DDO 221)   \n",
       "719  872042        1006009  Wolf-Lundmark-Melotte (WLM, DDO 221)   \n",
       "\n",
       "     existence expectancy index  existence expectancy at birth  \\\n",
       "0                      0.803915                      82.718434   \n",
       "1                      0.860011                      73.682279   \n",
       "2                      0.810644                      68.456526   \n",
       "3                      0.837170                      68.742404   \n",
       "4                      0.749034                      72.093220   \n",
       "..                          ...                            ...   \n",
       "715                    1.010563                      92.515213   \n",
       "716                    0.628426                      58.772174   \n",
       "717                    0.603825                      58.301528   \n",
       "718                    0.574464                      53.416728   \n",
       "719                    0.614594                      58.751698   \n",
       "\n",
       "     Gross income per capita  Income Index  \\\n",
       "0                17299.57148      0.691448   \n",
       "1                24971.71631      0.669550   \n",
       "2                15943.82977      0.766118   \n",
       "3                20952.63665      0.757196   \n",
       "4                30068.14043      0.641228   \n",
       "..                       ...           ...   \n",
       "715              61890.59381      1.219435   \n",
       "716              26523.82527      0.572390   \n",
       "717              10659.49479      0.629569   \n",
       "718              23157.55806      0.627428   \n",
       "719              24016.06785      0.623884   \n",
       "\n",
       "     Expected years of education (galactic years)  \\\n",
       "0                                       16.083635   \n",
       "1                                       12.858577   \n",
       "2                                       14.236676   \n",
       "3                                       14.281498   \n",
       "4                                       12.510524   \n",
       "..                                            ...   \n",
       "715                                     18.016207   \n",
       "716                                      9.186143   \n",
       "717                                      7.827124   \n",
       "718                                      9.626455   \n",
       "719                                     10.522855   \n",
       "\n",
       "     Mean years of education (galactic years)  \\\n",
       "0                                   11.282011   \n",
       "1                                   10.493260   \n",
       "2                                    9.962169   \n",
       "3                                   10.329880   \n",
       "4                                    7.132999   \n",
       "..                                        ...   \n",
       "715                                 13.395910   \n",
       "716                                  3.807712   \n",
       "717                                  4.244244   \n",
       "718                                  6.992821   \n",
       "719                                  5.472547   \n",
       "\n",
       "     Intergalactic Development Index (IDI)  Education Index  \\\n",
       "0                                 0.715746         0.745786   \n",
       "1                                 0.727915         0.806982   \n",
       "2                                 0.757072         0.852921   \n",
       "3                                 0.759207         0.801123   \n",
       "4                                 0.673619         0.528564   \n",
       "..                                     ...              ...   \n",
       "715                               1.020538         0.871133   \n",
       "716                               0.525476         0.366503   \n",
       "717                               0.615265         0.402917   \n",
       "718                               0.464677         0.402599   \n",
       "719                               0.547071         0.501966   \n",
       "\n",
       "     Intergalactic Development Index (IDI), Rank  \\\n",
       "0                                     191.852274   \n",
       "1                                     172.983630   \n",
       "2                                     180.488519   \n",
       "3                                     186.040542   \n",
       "4                                     155.296209   \n",
       "..                                           ...   \n",
       "715                                    99.716757   \n",
       "716                                   226.243698   \n",
       "717                                   246.407020   \n",
       "718                                   214.937772   \n",
       "719                                   228.390716   \n",
       "\n",
       "     Population using at least basic drinking-water services (%)  \\\n",
       "0                                            70.135059             \n",
       "1                                            67.810196             \n",
       "2                                            88.523680             \n",
       "3                                            82.525798             \n",
       "4                                            73.688089             \n",
       "..                                                 ...             \n",
       "715                                         119.441022             \n",
       "716                                          66.168323             \n",
       "717                                          73.400255             \n",
       "718                                          79.453556             \n",
       "719                                          76.616666             \n",
       "\n",
       "     Population using at least basic sanitation services (%)  \\\n",
       "0                                            65.908117         \n",
       "1                                            57.864919         \n",
       "2                                            71.524010         \n",
       "3                                            69.342027         \n",
       "4                                            55.494078         \n",
       "..                                                 ...         \n",
       "715                                         124.641722         \n",
       "716                                          59.277475         \n",
       "717                                          40.624599         \n",
       "718                                          68.800272         \n",
       "719                                          32.577694         \n",
       "\n",
       "     Predicted Well-Being Index  \n",
       "0                           NaN  \n",
       "1                           NaN  \n",
       "2                           NaN  \n",
       "3                           NaN  \n",
       "4                           NaN  \n",
       "..                          ...  \n",
       "715                         NaN  \n",
       "716                         NaN  \n",
       "717                         NaN  \n",
       "718                         NaN  \n",
       "719                         NaN  \n",
       "\n",
       "[720 rows x 15 columns]"
      ]
     },
     "execution_count": 9,
     "metadata": {},
     "output_type": "execute_result"
    }
   ],
   "source": [
    "test_data.drop(cols, axis=1, inplace=True)\n",
    "test_data"
   ]
  },
  {
   "cell_type": "code",
   "execution_count": 10,
   "metadata": {},
   "outputs": [
    {
     "name": "stdout",
     "output_type": "stream",
     "text": [
      "<class 'pandas.core.frame.DataFrame'>\n",
      "RangeIndex: 720 entries, 0 to 719\n",
      "Data columns (total 15 columns):\n",
      " #   Column                                                       Non-Null Count  Dtype  \n",
      "---  ------                                                       --------------  -----  \n",
      " 0   ID                                                           720 non-null    int64  \n",
      " 1   galactic year                                                720 non-null    int64  \n",
      " 2   galaxy                                                       720 non-null    object \n",
      " 3   existence expectancy index                                   720 non-null    float64\n",
      " 4   existence expectancy at birth                                720 non-null    float64\n",
      " 5   Gross income per capita                                      720 non-null    float64\n",
      " 6   Income Index                                                 720 non-null    float64\n",
      " 7   Expected years of education (galactic years)                 720 non-null    float64\n",
      " 8   Mean years of education (galactic years)                     717 non-null    float64\n",
      " 9   Intergalactic Development Index (IDI)                        717 non-null    float64\n",
      " 10  Education Index                                              717 non-null    float64\n",
      " 11  Intergalactic Development Index (IDI), Rank                  713 non-null    float64\n",
      " 12  Population using at least basic drinking-water services (%)  715 non-null    float64\n",
      " 13  Population using at least basic sanitation services (%)      713 non-null    float64\n",
      " 14  Predicted Well-Being Index                                   0 non-null      float64\n",
      "dtypes: float64(12), int64(2), object(1)\n",
      "memory usage: 84.5+ KB\n"
     ]
    }
   ],
   "source": [
    "test_data.info()"
   ]
  },
  {
   "cell_type": "code",
   "execution_count": 11,
   "metadata": {},
   "outputs": [
    {
     "data": {
      "text/plain": [
       "ID                                                                0\n",
       "galactic year                                                     0\n",
       "galaxy                                                            0\n",
       "existence expectancy index                                        1\n",
       "existence expectancy at birth                                     1\n",
       "Gross income per capita                                          28\n",
       "Income Index                                                     28\n",
       "Expected years of education (galactic years)                    129\n",
       "Mean years of education (galactic years)                        355\n",
       "Intergalactic Development Index (IDI)                           381\n",
       "Education Index                                                 381\n",
       "Intergalactic Development Index (IDI), Rank                     419\n",
       "Population using at least basic drinking-water services (%)    1811\n",
       "Population using at least basic sanitation services (%)        1815\n",
       "Well-Being Index                                                  0\n",
       "dtype: int64"
      ]
     },
     "execution_count": 11,
     "metadata": {},
     "output_type": "execute_result"
    }
   ],
   "source": [
    "train_data.isna().sum()"
   ]
  },
  {
   "cell_type": "code",
   "execution_count": 12,
   "metadata": {},
   "outputs": [
    {
     "data": {
      "text/plain": [
       "ID                                                               0\n",
       "galactic year                                                    0\n",
       "galaxy                                                           0\n",
       "existence expectancy index                                       0\n",
       "existence expectancy at birth                                    0\n",
       "Gross income per capita                                          0\n",
       "Income Index                                                     0\n",
       "Expected years of education (galactic years)                     0\n",
       "Mean years of education (galactic years)                         3\n",
       "Intergalactic Development Index (IDI)                            3\n",
       "Education Index                                                  3\n",
       "Intergalactic Development Index (IDI), Rank                      7\n",
       "Population using at least basic drinking-water services (%)      5\n",
       "Population using at least basic sanitation services (%)          7\n",
       "Predicted Well-Being Index                                     720\n",
       "dtype: int64"
      ]
     },
     "execution_count": 12,
     "metadata": {},
     "output_type": "execute_result"
    }
   ],
   "source": [
    "test_data.isna().sum()"
   ]
  },
  {
   "cell_type": "code",
   "execution_count": 13,
   "metadata": {},
   "outputs": [
    {
     "data": {
      "text/plain": [
       "ID                                                               int64\n",
       "galactic year                                                    int64\n",
       "galaxy                                                          object\n",
       "existence expectancy index                                     float64\n",
       "existence expectancy at birth                                  float64\n",
       "Gross income per capita                                        float64\n",
       "Income Index                                                   float64\n",
       "Expected years of education (galactic years)                   float64\n",
       "Mean years of education (galactic years)                       float64\n",
       "Intergalactic Development Index (IDI)                          float64\n",
       "Education Index                                                float64\n",
       "Intergalactic Development Index (IDI), Rank                    float64\n",
       "Population using at least basic drinking-water services (%)    float64\n",
       "Population using at least basic sanitation services (%)        float64\n",
       "Well-Being Index                                               float64\n",
       "dtype: object"
      ]
     },
     "execution_count": 13,
     "metadata": {},
     "output_type": "execute_result"
    }
   ],
   "source": [
    "train_data.dtypes"
   ]
  },
  {
   "cell_type": "code",
   "execution_count": 14,
   "metadata": {},
   "outputs": [
    {
     "data": {
      "text/plain": [
       "ID                                                              0.000000\n",
       "galactic year                                                   0.000000\n",
       "galaxy                                                          0.000000\n",
       "existence expectancy index                                      0.032289\n",
       "existence expectancy at birth                                   0.032289\n",
       "Gross income per capita                                         0.904101\n",
       "Income Index                                                    0.904101\n",
       "Expected years of education (galactic years)                    4.165321\n",
       "Mean years of education (galactic years)                       11.462706\n",
       "Intergalactic Development Index (IDI)                          12.302228\n",
       "Education Index                                                12.302228\n",
       "Intergalactic Development Index (IDI), Rank                    13.529222\n",
       "Population using at least basic drinking-water services (%)    58.475944\n",
       "Population using at least basic sanitation services (%)        58.605102\n",
       "Well-Being Index                                                0.000000\n",
       "dtype: float64"
      ]
     },
     "execution_count": 14,
     "metadata": {},
     "output_type": "execute_result"
    }
   ],
   "source": [
    "missing_percentage(train_data)"
   ]
  },
  {
   "cell_type": "code",
   "execution_count": 15,
   "metadata": {},
   "outputs": [],
   "source": [
    "# Use code 0 to mean unknown \n",
    "# For Population using at least basic drinking-water services (%)\n",
    "# And Population using at least basic sanitation services (%)\n",
    "train_data['Population using at least basic drinking-water services (%)'].fillna(0, inplace=True)\n",
    "train_data['Population using at least basic sanitation services (%)'].fillna(0, inplace=True)\n",
    "\n",
    "# Test Data\n",
    "test_data['Population using at least basic drinking-water services (%)'].fillna(0, inplace=True)\n",
    "test_data['Population using at least basic sanitation services (%)'].fillna(0, inplace=True)"
   ]
  },
  {
   "cell_type": "code",
   "execution_count": 16,
   "metadata": {},
   "outputs": [],
   "source": [
    "# Replace missing values with median for all columns\n",
    "train_data.fillna(train_data.median(), inplace=True)\n",
    "\n",
    "test_data.fillna(test_data.median(), inplace=True)"
   ]
  },
  {
   "cell_type": "code",
   "execution_count": 17,
   "metadata": {},
   "outputs": [
    {
     "data": {
      "text/plain": [
       "ID                                                             0\n",
       "galactic year                                                  0\n",
       "galaxy                                                         0\n",
       "existence expectancy index                                     0\n",
       "existence expectancy at birth                                  0\n",
       "Gross income per capita                                        0\n",
       "Income Index                                                   0\n",
       "Expected years of education (galactic years)                   0\n",
       "Mean years of education (galactic years)                       0\n",
       "Intergalactic Development Index (IDI)                          0\n",
       "Education Index                                                0\n",
       "Intergalactic Development Index (IDI), Rank                    0\n",
       "Population using at least basic drinking-water services (%)    0\n",
       "Population using at least basic sanitation services (%)        0\n",
       "Well-Being Index                                               0\n",
       "dtype: int64"
      ]
     },
     "execution_count": 17,
     "metadata": {},
     "output_type": "execute_result"
    }
   ],
   "source": [
    "train_data.isna().sum()"
   ]
  },
  {
   "cell_type": "code",
   "execution_count": 18,
   "metadata": {},
   "outputs": [
    {
     "data": {
      "text/plain": [
       "ID                                                               0\n",
       "galactic year                                                    0\n",
       "galaxy                                                           0\n",
       "existence expectancy index                                       0\n",
       "existence expectancy at birth                                    0\n",
       "Gross income per capita                                          0\n",
       "Income Index                                                     0\n",
       "Expected years of education (galactic years)                     0\n",
       "Mean years of education (galactic years)                         0\n",
       "Intergalactic Development Index (IDI)                            0\n",
       "Education Index                                                  0\n",
       "Intergalactic Development Index (IDI), Rank                      0\n",
       "Population using at least basic drinking-water services (%)      0\n",
       "Population using at least basic sanitation services (%)          0\n",
       "Predicted Well-Being Index                                     720\n",
       "dtype: int64"
      ]
     },
     "execution_count": 18,
     "metadata": {},
     "output_type": "execute_result"
    }
   ],
   "source": [
    "test_data.isna().sum()"
   ]
  },
  {
   "cell_type": "code",
   "execution_count": 19,
   "metadata": {},
   "outputs": [],
   "source": [
    "test_data.drop(['ID', 'Predicted Well-Being Index'], axis=1, inplace=True)\n",
    "\n",
    "testing_data = test_data.copy()"
   ]
  },
  {
   "cell_type": "markdown",
   "metadata": {},
   "source": [
    "### Basic EDA"
   ]
  },
  {
   "cell_type": "code",
   "execution_count": 20,
   "metadata": {},
   "outputs": [
    {
     "data": {
      "image/png": "[encoded data removed]",
      "text/plain": [
       "<Figure size 2000x1200 with 16 Axes>"
      ]
     },
     "metadata": {},
     "output_type": "display_data"
    }
   ],
   "source": [
    "import seaborn as sns\n",
    "import matplotlib.pyplot as plt\n",
    "sns.set()\n",
    "\n",
    "int_cols = train_data.iloc[:,1:].select_dtypes(include=['float', 'int']).columns.to_list()\n",
    "train_data.iloc[:,1:][int_cols].hist(figsize=(20,12))\n",
    "plt.title(\"Distributions of Numeric Variables\", size=20)\n",
    "plt.show()"
   ]
  },
  {
   "cell_type": "code",
   "execution_count": 21,
   "metadata": {},
   "outputs": [
    {
     "data": {
      "text/plain": [
       "Tucana Dwarf                                   22\n",
       "Andromeda XII                                  22\n",
       "Andromeda XIX[60]                              22\n",
       "Andromeda XXII[57]                             22\n",
       "Pisces II                                      21\n",
       "                                               ..\n",
       "Sagittarius Dwarf Irregular Galaxy (SagDIG)    12\n",
       "Andromeda XXI[57]                              12\n",
       "Andromeda XXIX                                 12\n",
       "Wolf-Lundmark-Melotte (WLM, DDO 221)           10\n",
       "NGC 5253                                        1\n",
       "Name: galaxy, Length: 181, dtype: int64"
      ]
     },
     "execution_count": 21,
     "metadata": {},
     "output_type": "execute_result"
    }
   ],
   "source": [
    "train_data['galaxy'].value_counts()"
   ]
  },
  {
   "cell_type": "markdown",
   "metadata": {},
   "source": [
    "## Feature Scaling"
   ]
  },
  {
   "cell_type": "code",
   "execution_count": 22,
   "metadata": {},
   "outputs": [
    {
     "name": "stdout",
     "output_type": "stream",
     "text": [
      "Minimum value:  0.031476525\n",
      "Maximum value:  0.379856945\n"
     ]
    }
   ],
   "source": [
    "# Checking the minimu and maximum well-being index\n",
    "print('Minimum value: ', train_data.iloc[:,-1].min())\n",
    "print('Maximum value: ', train_data.iloc[:,-1].max())"
   ]
  },
  {
   "cell_type": "code",
   "execution_count": 23,
   "metadata": {},
   "outputs": [],
   "source": [
    "# Create the features and label\n",
    "X_train = train_data.iloc[:,:-1]\n",
    "y_train = train_data.iloc[:,-1].values\n",
    "y_train = y_train.reshape(len(y_train), 1)"
   ]
  },
  {
   "cell_type": "code",
   "execution_count": 24,
   "metadata": {},
   "outputs": [],
   "source": [
    "X_train.drop('ID', axis=1, inplace=True)"
   ]
  },
  {
   "cell_type": "code",
   "execution_count": 25,
   "metadata": {},
   "outputs": [
    {
     "data": {
      "text/html": [
       "<div>\n",
       "<style scoped>\n",
       "    .dataframe tbody tr th:only-of-type {\n",
       "        vertical-align: middle;\n",
       "    }\n",
       "\n",
       "    .dataframe tbody tr th {\n",
       "        vertical-align: top;\n",
       "    }\n",
       "\n",
       "    .dataframe thead th {\n",
       "        text-align: right;\n",
       "    }\n",
       "</style>\n",
       "<table border=\"1\" class=\"dataframe\">\n",
       "  <thead>\n",
       "    <tr style=\"text-align: right;\">\n",
       "      <th></th>\n",
       "      <th>galactic year</th>\n",
       "      <th>galaxy</th>\n",
       "      <th>existence expectancy index</th>\n",
       "      <th>existence expectancy at birth</th>\n",
       "      <th>Gross income per capita</th>\n",
       "      <th>Income Index</th>\n",
       "      <th>Expected years of education (galactic years)</th>\n",
       "      <th>Mean years of education (galactic years)</th>\n",
       "      <th>Intergalactic Development Index (IDI)</th>\n",
       "      <th>Education Index</th>\n",
       "      <th>Intergalactic Development Index (IDI), Rank</th>\n",
       "      <th>Population using at least basic drinking-water services (%)</th>\n",
       "      <th>Population using at least basic sanitation services (%)</th>\n",
       "    </tr>\n",
       "  </thead>\n",
       "  <tbody>\n",
       "    <tr>\n",
       "      <th>0</th>\n",
       "      <td>0.652936</td>\n",
       "      <td>Antlia B</td>\n",
       "      <td>-1.453665</td>\n",
       "      <td>-1.879350</td>\n",
       "      <td>-0.728854</td>\n",
       "      <td>-1.865082</td>\n",
       "      <td>-1.859670</td>\n",
       "      <td>-1.585308</td>\n",
       "      <td>-1.745036</td>\n",
       "      <td>-1.405577</td>\n",
       "      <td>2.441131</td>\n",
       "      <td>-0.171462</td>\n",
       "      <td>0.321030</td>\n",
       "    </tr>\n",
       "    <tr>\n",
       "      <th>1</th>\n",
       "      <td>0.098936</td>\n",
       "      <td>KKH 11 (ZOAG G135.74-04.53)</td>\n",
       "      <td>0.649334</td>\n",
       "      <td>0.448507</td>\n",
       "      <td>-1.066265</td>\n",
       "      <td>-0.320149</td>\n",
       "      <td>0.399497</td>\n",
       "      <td>0.976402</td>\n",
       "      <td>0.067469</td>\n",
       "      <td>0.560262</td>\n",
       "      <td>0.111443</td>\n",
       "      <td>-0.813976</td>\n",
       "      <td>-0.772005</td>\n",
       "    </tr>\n",
       "    <tr>\n",
       "      <th>2</th>\n",
       "      <td>-1.006478</td>\n",
       "      <td>Leo IV Dwarf</td>\n",
       "      <td>0.804257</td>\n",
       "      <td>0.592478</td>\n",
       "      <td>1.494863</td>\n",
       "      <td>1.103672</td>\n",
       "      <td>0.871894</td>\n",
       "      <td>0.434051</td>\n",
       "      <td>1.075299</td>\n",
       "      <td>0.843929</td>\n",
       "      <td>-1.215379</td>\n",
       "      <td>-0.813976</td>\n",
       "      <td>-0.772005</td>\n",
       "    </tr>\n",
       "    <tr>\n",
       "      <th>3</th>\n",
       "      <td>-0.638376</td>\n",
       "      <td>NGC 185</td>\n",
       "      <td>0.857873</td>\n",
       "      <td>-0.053390</td>\n",
       "      <td>0.207177</td>\n",
       "      <td>-0.575946</td>\n",
       "      <td>-0.246707</td>\n",
       "      <td>0.020438</td>\n",
       "      <td>0.105370</td>\n",
       "      <td>0.079619</td>\n",
       "      <td>0.003442</td>\n",
       "      <td>-0.813976</td>\n",
       "      <td>-0.772005</td>\n",
       "    </tr>\n",
       "    <tr>\n",
       "      <th>4</th>\n",
       "      <td>-0.454140</td>\n",
       "      <td>Grus I</td>\n",
       "      <td>1.139049</td>\n",
       "      <td>0.684687</td>\n",
       "      <td>-0.760023</td>\n",
       "      <td>0.684476</td>\n",
       "      <td>-0.263606</td>\n",
       "      <td>0.547781</td>\n",
       "      <td>1.025493</td>\n",
       "      <td>0.347874</td>\n",
       "      <td>0.194360</td>\n",
       "      <td>-0.813976</td>\n",
       "      <td>-0.772005</td>\n",
       "    </tr>\n",
       "    <tr>\n",
       "      <th>...</th>\n",
       "      <td>...</td>\n",
       "      <td>...</td>\n",
       "      <td>...</td>\n",
       "      <td>...</td>\n",
       "      <td>...</td>\n",
       "      <td>...</td>\n",
       "      <td>...</td>\n",
       "      <td>...</td>\n",
       "      <td>...</td>\n",
       "      <td>...</td>\n",
       "      <td>...</td>\n",
       "      <td>...</td>\n",
       "      <td>...</td>\n",
       "    </tr>\n",
       "    <tr>\n",
       "      <th>3092</th>\n",
       "      <td>1.392832</td>\n",
       "      <td>NGC 1560</td>\n",
       "      <td>0.449833</td>\n",
       "      <td>0.786730</td>\n",
       "      <td>-0.332977</td>\n",
       "      <td>0.479195</td>\n",
       "      <td>-0.750947</td>\n",
       "      <td>-0.092025</td>\n",
       "      <td>0.315397</td>\n",
       "      <td>0.628662</td>\n",
       "      <td>0.003442</td>\n",
       "      <td>1.139944</td>\n",
       "      <td>0.868632</td>\n",
       "    </tr>\n",
       "    <tr>\n",
       "      <th>3093</th>\n",
       "      <td>1.022699</td>\n",
       "      <td>NGC 55</td>\n",
       "      <td>0.482392</td>\n",
       "      <td>0.821381</td>\n",
       "      <td>1.341904</td>\n",
       "      <td>1.601038</td>\n",
       "      <td>0.266214</td>\n",
       "      <td>-0.015715</td>\n",
       "      <td>0.668425</td>\n",
       "      <td>0.031539</td>\n",
       "      <td>-0.344782</td>\n",
       "      <td>0.921147</td>\n",
       "      <td>1.453893</td>\n",
       "    </tr>\n",
       "    <tr>\n",
       "      <th>3094</th>\n",
       "      <td>1.022699</td>\n",
       "      <td>Small Magellanic Cloud (SMC, NGC 292)</td>\n",
       "      <td>0.914749</td>\n",
       "      <td>0.941421</td>\n",
       "      <td>-0.750025</td>\n",
       "      <td>0.276015</td>\n",
       "      <td>0.956628</td>\n",
       "      <td>-0.418242</td>\n",
       "      <td>0.888914</td>\n",
       "      <td>0.188389</td>\n",
       "      <td>-0.318718</td>\n",
       "      <td>1.286388</td>\n",
       "      <td>1.030871</td>\n",
       "    </tr>\n",
       "    <tr>\n",
       "      <th>3095</th>\n",
       "      <td>1.022699</td>\n",
       "      <td>Andromeda XXIV</td>\n",
       "      <td>-1.931071</td>\n",
       "      <td>-1.663240</td>\n",
       "      <td>-1.068557</td>\n",
       "      <td>-1.204442</td>\n",
       "      <td>-0.425623</td>\n",
       "      <td>-1.244004</td>\n",
       "      <td>-2.400054</td>\n",
       "      <td>-0.973179</td>\n",
       "      <td>1.961295</td>\n",
       "      <td>0.754027</td>\n",
       "      <td>0.030772</td>\n",
       "    </tr>\n",
       "    <tr>\n",
       "      <th>3096</th>\n",
       "      <td>1.207673</td>\n",
       "      <td>Maffei 2</td>\n",
       "      <td>0.594779</td>\n",
       "      <td>0.223064</td>\n",
       "      <td>-0.706428</td>\n",
       "      <td>-0.760350</td>\n",
       "      <td>-1.456106</td>\n",
       "      <td>-1.032483</td>\n",
       "      <td>-0.697092</td>\n",
       "      <td>-0.993140</td>\n",
       "      <td>2.027611</td>\n",
       "      <td>0.969694</td>\n",
       "      <td>0.079954</td>\n",
       "    </tr>\n",
       "  </tbody>\n",
       "</table>\n",
       "<p>3097 rows × 13 columns</p>\n",
       "</div>"
      ],
      "text/plain": [
       "      galactic year                                 galaxy  \\\n",
       "0          0.652936                               Antlia B   \n",
       "1          0.098936            KKH 11 (ZOAG G135.74-04.53)   \n",
       "2         -1.006478                           Leo IV Dwarf   \n",
       "3         -0.638376                                NGC 185   \n",
       "4         -0.454140                                 Grus I   \n",
       "...             ...                                    ...   \n",
       "3092       1.392832                               NGC 1560   \n",
       "3093       1.022699                                 NGC 55   \n",
       "3094       1.022699  Small Magellanic Cloud (SMC, NGC 292)   \n",
       "3095       1.022699                         Andromeda XXIV   \n",
       "3096       1.207673                               Maffei 2   \n",
       "\n",
       "      existence expectancy index  existence expectancy at birth  \\\n",
       "0                      -1.453665                      -1.879350   \n",
       "1                       0.649334                       0.448507   \n",
       "2                       0.804257                       0.592478   \n",
       "3                       0.857873                      -0.053390   \n",
       "4                       1.139049                       0.684687   \n",
       "...                          ...                            ...   \n",
       "3092                    0.449833                       0.786730   \n",
       "3093                    0.482392                       0.821381   \n",
       "3094                    0.914749                       0.941421   \n",
       "3095                   -1.931071                      -1.663240   \n",
       "3096                    0.594779                       0.223064   \n",
       "\n",
       "      Gross income per capita  Income Index  \\\n",
       "0                   -0.728854     -1.865082   \n",
       "1                   -1.066265     -0.320149   \n",
       "2                    1.494863      1.103672   \n",
       "3                    0.207177     -0.575946   \n",
       "4                   -0.760023      0.684476   \n",
       "...                       ...           ...   \n",
       "3092                -0.332977      0.479195   \n",
       "3093                 1.341904      1.601038   \n",
       "3094                -0.750025      0.276015   \n",
       "3095                -1.068557     -1.204442   \n",
       "3096                -0.706428     -0.760350   \n",
       "\n",
       "      Expected years of education (galactic years)  \\\n",
       "0                                        -1.859670   \n",
       "1                                         0.399497   \n",
       "2                                         0.871894   \n",
       "3                                        -0.246707   \n",
       "4                                        -0.263606   \n",
       "...                                            ...   \n",
       "3092                                     -0.750947   \n",
       "3093                                      0.266214   \n",
       "3094                                      0.956628   \n",
       "3095                                     -0.425623   \n",
       "3096                                     -1.456106   \n",
       "\n",
       "      Mean years of education (galactic years)  \\\n",
       "0                                    -1.585308   \n",
       "1                                     0.976402   \n",
       "2                                     0.434051   \n",
       "3                                     0.020438   \n",
       "4                                     0.547781   \n",
       "...                                        ...   \n",
       "3092                                 -0.092025   \n",
       "3093                                 -0.015715   \n",
       "3094                                 -0.418242   \n",
       "3095                                 -1.244004   \n",
       "3096                                 -1.032483   \n",
       "\n",
       "      Intergalactic Development Index (IDI)  Education Index  \\\n",
       "0                                 -1.745036        -1.405577   \n",
       "1                                  0.067469         0.560262   \n",
       "2                                  1.075299         0.843929   \n",
       "3                                  0.105370         0.079619   \n",
       "4                                  1.025493         0.347874   \n",
       "...                                     ...              ...   \n",
       "3092                               0.315397         0.628662   \n",
       "3093                               0.668425         0.031539   \n",
       "3094                               0.888914         0.188389   \n",
       "3095                              -2.400054        -0.973179   \n",
       "3096                              -0.697092        -0.993140   \n",
       "\n",
       "      Intergalactic Development Index (IDI), Rank  \\\n",
       "0                                        2.441131   \n",
       "1                                        0.111443   \n",
       "2                                       -1.215379   \n",
       "3                                        0.003442   \n",
       "4                                        0.194360   \n",
       "...                                           ...   \n",
       "3092                                     0.003442   \n",
       "3093                                    -0.344782   \n",
       "3094                                    -0.318718   \n",
       "3095                                     1.961295   \n",
       "3096                                     2.027611   \n",
       "\n",
       "      Population using at least basic drinking-water services (%)  \\\n",
       "0                                             -0.171462             \n",
       "1                                             -0.813976             \n",
       "2                                             -0.813976             \n",
       "3                                             -0.813976             \n",
       "4                                             -0.813976             \n",
       "...                                                 ...             \n",
       "3092                                           1.139944             \n",
       "3093                                           0.921147             \n",
       "3094                                           1.286388             \n",
       "3095                                           0.754027             \n",
       "3096                                           0.969694             \n",
       "\n",
       "      Population using at least basic sanitation services (%)  \n",
       "0                                              0.321030        \n",
       "1                                             -0.772005        \n",
       "2                                             -0.772005        \n",
       "3                                             -0.772005        \n",
       "4                                             -0.772005        \n",
       "...                                                 ...        \n",
       "3092                                           0.868632        \n",
       "3093                                           1.453893        \n",
       "3094                                           1.030871        \n",
       "3095                                           0.030772        \n",
       "3096                                           0.079954        \n",
       "\n",
       "[3097 rows x 13 columns]"
      ]
     },
     "execution_count": 25,
     "metadata": {},
     "output_type": "execute_result"
    }
   ],
   "source": [
    "from sklearn.preprocessing import StandardScaler\n",
    "\n",
    "sc = StandardScaler()\n",
    "# Standardise the numerical columns\n",
    "X_train[int_cols[:-1]] = sc.fit_transform(X_train[int_cols[:-1]])\n",
    "\n",
    "X_train"
   ]
  },
  {
   "cell_type": "markdown",
   "metadata": {},
   "source": [
    "### Standardizing the validation dataset"
   ]
  },
  {
   "cell_type": "code",
   "execution_count": 26,
   "metadata": {},
   "outputs": [],
   "source": [
    "test_int_cols = test_data.drop('galaxy', axis=1).columns.to_list()\n",
    "test_data[test_int_cols] = sc.transform(test_data[test_int_cols])"
   ]
  },
  {
   "cell_type": "markdown",
   "metadata": {},
   "source": [
    "### Encoding Categorical Variables"
   ]
  },
  {
   "cell_type": "code",
   "execution_count": 27,
   "metadata": {},
   "outputs": [],
   "source": [
    "X_train = pd.get_dummies(X_train, drop_first=True)\n",
    "\n",
    "test_data = pd.get_dummies(test_data, drop_first=True)"
   ]
  },
  {
   "cell_type": "markdown",
   "metadata": {},
   "source": [
    "### Splitting the dataset  into training and testing sets"
   ]
  },
  {
   "cell_type": "code",
   "execution_count": 28,
   "metadata": {},
   "outputs": [],
   "source": [
    "from sklearn.model_selection import train_test_split\n",
    "X_train, X_val, y_train, y_val = train_test_split(X_train, y_train, test_size=0.2)"
   ]
  },
  {
   "cell_type": "markdown",
   "metadata": {},
   "source": [
    "### Using Sklearn Pipeline to preprocess and fit a model"
   ]
  },
  {
   "cell_type": "code",
   "execution_count": 29,
   "metadata": {},
   "outputs": [],
   "source": [
    "from sklearn.preprocessing import StandardScaler\n",
    "import numpy as np\n",
    "\n",
    "# Assuming X_train is a sparse matrix\n",
    "std_scaler = StandardScaler(with_mean=False).fit(X_train)\n",
    "\n",
    "def preprocessor(X):\n",
    "    D = np.copy(X)\n",
    "    D = std_scaler.transform(D)\n",
    "    return D"
   ]
  },
  {
   "cell_type": "code",
   "execution_count": 30,
   "metadata": {},
   "outputs": [
    {
     "data": {
      "text/html": [
       "<style>#sk-container-id-1 {color: black;background-color: white;}#sk-container-id-1 pre{padding: 0;}#sk-container-id-1 div.sk-toggleable {background-color: white;}#sk-container-id-1 label.sk-toggleable__label {cursor: pointer;display: block;width: 100%;margin-bottom: 0;padding: 0.3em;box-sizing: border-box;text-align: center;}#sk-container-id-1 label.sk-toggleable__label-arrow:before {content: \"▸\";float: left;margin-right: 0.25em;color: #696969;}#sk-container-id-1 label.sk-toggleable__label-arrow:hover:before {color: black;}#sk-container-id-1 div.sk-estimator:hover label.sk-toggleable__label-arrow:before {color: black;}#sk-container-id-1 div.sk-toggleable__content {max-height: 0;max-width: 0;overflow: hidden;text-align: left;background-color: #f0f8ff;}#sk-container-id-1 div.sk-toggleable__content pre {margin: 0.2em;color: black;border-radius: 0.25em;background-color: #f0f8ff;}#sk-container-id-1 input.sk-toggleable__control:checked~div.sk-toggleable__content {max-height: 200px;max-width: 100%;overflow: auto;}#sk-container-id-1 input.sk-toggleable__control:checked~label.sk-toggleable__label-arrow:before {content: \"▾\";}#sk-container-id-1 div.sk-estimator input.sk-toggleable__control:checked~label.sk-toggleable__label {background-color: #d4ebff;}#sk-container-id-1 div.sk-label input.sk-toggleable__control:checked~label.sk-toggleable__label {background-color: #d4ebff;}#sk-container-id-1 input.sk-hidden--visually {border: 0;clip: rect(1px 1px 1px 1px);clip: rect(1px, 1px, 1px, 1px);height: 1px;margin: -1px;overflow: hidden;padding: 0;position: absolute;width: 1px;}#sk-container-id-1 div.sk-estimator {font-family: monospace;background-color: #f0f8ff;border: 1px dotted black;border-radius: 0.25em;box-sizing: border-box;margin-bottom: 0.5em;}#sk-container-id-1 div.sk-estimator:hover {background-color: #d4ebff;}#sk-container-id-1 div.sk-parallel-item::after {content: \"\";width: 100%;border-bottom: 1px solid gray;flex-grow: 1;}#sk-container-id-1 div.sk-label:hover label.sk-toggleable__label {background-color: #d4ebff;}#sk-container-id-1 div.sk-serial::before {content: \"\";position: absolute;border-left: 1px solid gray;box-sizing: border-box;top: 0;bottom: 0;left: 50%;z-index: 0;}#sk-container-id-1 div.sk-serial {display: flex;flex-direction: column;align-items: center;background-color: white;padding-right: 0.2em;padding-left: 0.2em;position: relative;}#sk-container-id-1 div.sk-item {position: relative;z-index: 1;}#sk-container-id-1 div.sk-parallel {display: flex;align-items: stretch;justify-content: center;background-color: white;position: relative;}#sk-container-id-1 div.sk-item::before, #sk-container-id-1 div.sk-parallel-item::before {content: \"\";position: absolute;border-left: 1px solid gray;box-sizing: border-box;top: 0;bottom: 0;left: 50%;z-index: -1;}#sk-container-id-1 div.sk-parallel-item {display: flex;flex-direction: column;z-index: 1;position: relative;background-color: white;}#sk-container-id-1 div.sk-parallel-item:first-child::after {align-self: flex-end;width: 50%;}#sk-container-id-1 div.sk-parallel-item:last-child::after {align-self: flex-start;width: 50%;}#sk-container-id-1 div.sk-parallel-item:only-child::after {width: 0;}#sk-container-id-1 div.sk-dashed-wrapped {border: 1px dashed gray;margin: 0 0.4em 0.5em 0.4em;box-sizing: border-box;padding-bottom: 0.4em;background-color: white;}#sk-container-id-1 div.sk-label label {font-family: monospace;font-weight: bold;display: inline-block;line-height: 1.2em;}#sk-container-id-1 div.sk-label-container {text-align: center;}#sk-container-id-1 div.sk-container {/* jupyter's `normalize.less` sets `[hidden] { display: none; }` but bootstrap.min.css set `[hidden] { display: none !important; }` so we also need the `!important` here to be able to override the default hidden behavior on the sphinx rendered scikit-learn.org. See: https://github.com/scikit-learn/scikit-learn/issues/21755 */display: inline-block !important;position: relative;}#sk-container-id-1 div.sk-text-repr-fallback {display: none;}</style><div id=\"sk-container-id-1\" class=\"sk-top-container\"><div class=\"sk-text-repr-fallback\"><pre>FunctionTransformer(func=&lt;function preprocessor at 0x0000020890559CA0&gt;)</pre><b>In a Jupyter environment, please rerun this cell to show the HTML representation or trust the notebook. <br />On GitHub, the HTML representation is unable to render, please try loading this page with nbviewer.org.</b></div><div class=\"sk-container\" hidden><div class=\"sk-item\"><div class=\"sk-estimator sk-toggleable\"><input class=\"sk-toggleable__control sk-hidden--visually\" id=\"sk-estimator-id-1\" type=\"checkbox\" checked><label for=\"sk-estimator-id-1\" class=\"sk-toggleable__label sk-toggleable__label-arrow\">FunctionTransformer</label><div class=\"sk-toggleable__content\"><pre>FunctionTransformer(func=&lt;function preprocessor at 0x0000020890559CA0&gt;)</pre></div></div></div></div></div>"
      ],
      "text/plain": [
       "FunctionTransformer(func=<function preprocessor at 0x0000020890559CA0>)"
      ]
     },
     "execution_count": 30,
     "metadata": {},
     "output_type": "execute_result"
    }
   ],
   "source": [
    "from sklearn.preprocessing import FunctionTransformer\n",
    "\n",
    "preprocessor_transformer = FunctionTransformer(preprocessor)\n",
    "preprocessor_transformer"
   ]
  },
  {
   "cell_type": "code",
   "execution_count": 31,
   "metadata": {},
   "outputs": [
    {
     "data": {
      "text/html": [
       "<style>#sk-container-id-2 {color: black;background-color: white;}#sk-container-id-2 pre{padding: 0;}#sk-container-id-2 div.sk-toggleable {background-color: white;}#sk-container-id-2 label.sk-toggleable__label {cursor: pointer;display: block;width: 100%;margin-bottom: 0;padding: 0.3em;box-sizing: border-box;text-align: center;}#sk-container-id-2 label.sk-toggleable__label-arrow:before {content: \"▸\";float: left;margin-right: 0.25em;color: #696969;}#sk-container-id-2 label.sk-toggleable__label-arrow:hover:before {color: black;}#sk-container-id-2 div.sk-estimator:hover label.sk-toggleable__label-arrow:before {color: black;}#sk-container-id-2 div.sk-toggleable__content {max-height: 0;max-width: 0;overflow: hidden;text-align: left;background-color: #f0f8ff;}#sk-container-id-2 div.sk-toggleable__content pre {margin: 0.2em;color: black;border-radius: 0.25em;background-color: #f0f8ff;}#sk-container-id-2 input.sk-toggleable__control:checked~div.sk-toggleable__content {max-height: 200px;max-width: 100%;overflow: auto;}#sk-container-id-2 input.sk-toggleable__control:checked~label.sk-toggleable__label-arrow:before {content: \"▾\";}#sk-container-id-2 div.sk-estimator input.sk-toggleable__control:checked~label.sk-toggleable__label {background-color: #d4ebff;}#sk-container-id-2 div.sk-label input.sk-toggleable__control:checked~label.sk-toggleable__label {background-color: #d4ebff;}#sk-container-id-2 input.sk-hidden--visually {border: 0;clip: rect(1px 1px 1px 1px);clip: rect(1px, 1px, 1px, 1px);height: 1px;margin: -1px;overflow: hidden;padding: 0;position: absolute;width: 1px;}#sk-container-id-2 div.sk-estimator {font-family: monospace;background-color: #f0f8ff;border: 1px dotted black;border-radius: 0.25em;box-sizing: border-box;margin-bottom: 0.5em;}#sk-container-id-2 div.sk-estimator:hover {background-color: #d4ebff;}#sk-container-id-2 div.sk-parallel-item::after {content: \"\";width: 100%;border-bottom: 1px solid gray;flex-grow: 1;}#sk-container-id-2 div.sk-label:hover label.sk-toggleable__label {background-color: #d4ebff;}#sk-container-id-2 div.sk-serial::before {content: \"\";position: absolute;border-left: 1px solid gray;box-sizing: border-box;top: 0;bottom: 0;left: 50%;z-index: 0;}#sk-container-id-2 div.sk-serial {display: flex;flex-direction: column;align-items: center;background-color: white;padding-right: 0.2em;padding-left: 0.2em;position: relative;}#sk-container-id-2 div.sk-item {position: relative;z-index: 1;}#sk-container-id-2 div.sk-parallel {display: flex;align-items: stretch;justify-content: center;background-color: white;position: relative;}#sk-container-id-2 div.sk-item::before, #sk-container-id-2 div.sk-parallel-item::before {content: \"\";position: absolute;border-left: 1px solid gray;box-sizing: border-box;top: 0;bottom: 0;left: 50%;z-index: -1;}#sk-container-id-2 div.sk-parallel-item {display: flex;flex-direction: column;z-index: 1;position: relative;background-color: white;}#sk-container-id-2 div.sk-parallel-item:first-child::after {align-self: flex-end;width: 50%;}#sk-container-id-2 div.sk-parallel-item:last-child::after {align-self: flex-start;width: 50%;}#sk-container-id-2 div.sk-parallel-item:only-child::after {width: 0;}#sk-container-id-2 div.sk-dashed-wrapped {border: 1px dashed gray;margin: 0 0.4em 0.5em 0.4em;box-sizing: border-box;padding-bottom: 0.4em;background-color: white;}#sk-container-id-2 div.sk-label label {font-family: monospace;font-weight: bold;display: inline-block;line-height: 1.2em;}#sk-container-id-2 div.sk-label-container {text-align: center;}#sk-container-id-2 div.sk-container {/* jupyter's `normalize.less` sets `[hidden] { display: none; }` but bootstrap.min.css set `[hidden] { display: none !important; }` so we also need the `!important` here to be able to override the default hidden behavior on the sphinx rendered scikit-learn.org. See: https://github.com/scikit-learn/scikit-learn/issues/21755 */display: inline-block !important;position: relative;}#sk-container-id-2 div.sk-text-repr-fallback {display: none;}</style><div id=\"sk-container-id-2\" class=\"sk-top-container\"><div class=\"sk-text-repr-fallback\"><pre>Pipeline(steps=[(&#x27;scaler&#x27;,\n",
       "                 FunctionTransformer(func=&lt;function preprocessor at 0x0000020890559CA0&gt;)),\n",
       "                (&#x27;Linear Regression&#x27;, LinearRegression())])</pre><b>In a Jupyter environment, please rerun this cell to show the HTML representation or trust the notebook. <br />On GitHub, the HTML representation is unable to render, please try loading this page with nbviewer.org.</b></div><div class=\"sk-container\" hidden><div class=\"sk-item sk-dashed-wrapped\"><div class=\"sk-label-container\"><div class=\"sk-label sk-toggleable\"><input class=\"sk-toggleable__control sk-hidden--visually\" id=\"sk-estimator-id-2\" type=\"checkbox\" ><label for=\"sk-estimator-id-2\" class=\"sk-toggleable__label sk-toggleable__label-arrow\">Pipeline</label><div class=\"sk-toggleable__content\"><pre>Pipeline(steps=[(&#x27;scaler&#x27;,\n",
       "                 FunctionTransformer(func=&lt;function preprocessor at 0x0000020890559CA0&gt;)),\n",
       "                (&#x27;Linear Regression&#x27;, LinearRegression())])</pre></div></div></div><div class=\"sk-serial\"><div class=\"sk-item\"><div class=\"sk-estimator sk-toggleable\"><input class=\"sk-toggleable__control sk-hidden--visually\" id=\"sk-estimator-id-3\" type=\"checkbox\" ><label for=\"sk-estimator-id-3\" class=\"sk-toggleable__label sk-toggleable__label-arrow\">FunctionTransformer</label><div class=\"sk-toggleable__content\"><pre>FunctionTransformer(func=&lt;function preprocessor at 0x0000020890559CA0&gt;)</pre></div></div></div><div class=\"sk-item\"><div class=\"sk-estimator sk-toggleable\"><input class=\"sk-toggleable__control sk-hidden--visually\" id=\"sk-estimator-id-4\" type=\"checkbox\" ><label for=\"sk-estimator-id-4\" class=\"sk-toggleable__label sk-toggleable__label-arrow\">LinearRegression</label><div class=\"sk-toggleable__content\"><pre>LinearRegression()</pre></div></div></div></div></div></div></div>"
      ],
      "text/plain": [
       "Pipeline(steps=[('scaler',\n",
       "                 FunctionTransformer(func=<function preprocessor at 0x0000020890559CA0>)),\n",
       "                ('Linear Regression', LinearRegression())])"
      ]
     },
     "execution_count": 31,
     "metadata": {},
     "output_type": "execute_result"
    }
   ],
   "source": [
    "from sklearn.pipeline import Pipeline\n",
    "from sklearn.linear_model import LinearRegression\n",
    "\n",
    "p1 = Pipeline([('scaler', preprocessor_transformer),\n",
    "              ('Linear Regression', LinearRegression())])\n",
    "p1"
   ]
  },
  {
   "cell_type": "code",
   "execution_count": 32,
   "metadata": {},
   "outputs": [],
   "source": [
    "from sklearn.metrics import mean_absolute_error, r2_score\n",
    "\n",
    "def fit_and_print(p, X_train=X_train, X_test=X_val, y_train=y_train, y_test=y_val):\n",
    "    # Fit the transformer\n",
    "    p.fit(X_train, y_train)\n",
    "    # Predict the train and test outputs\n",
    "    training_prediction = p.predict(X_train)\n",
    "    test_prediction = p.predict(X_test)\n",
    "    \n",
    "    # Calculate Mean Absolute Error\n",
    "    train_mae = mean_absolute_error(training_prediction, y_train)\n",
    "    test_mae = mean_absolute_error(test_prediction, y_test)\n",
    "    \n",
    "    # Calculate R-squared\n",
    "    train_r2 = r2_score(y_train, training_prediction)\n",
    "    test_r2 = r2_score(y_test, test_prediction)\n",
    "    \n",
    "    # Print the errors\n",
    "    print(\"Training Mean Absolute Error: {:.2f}\".format(train_mae))\n",
    "    print(\"Training R-squared: {:.2f}%\".format(train_r2 * 100))\n",
    "    print(\"Test Mean Absolute Error: {:.2f}\".format(test_mae))\n",
    "    print(\"Test R-squared: {:.2f}%\".format(test_r2 * 100))\n"
   ]
  },
  {
   "cell_type": "markdown",
   "metadata": {},
   "source": [
    "### Fit a Linear Regression"
   ]
  },
  {
   "cell_type": "code",
   "execution_count": 33,
   "metadata": {},
   "outputs": [
    {
     "name": "stdout",
     "output_type": "stream",
     "text": [
      "Training Mean Absolute Error: 0.00\n",
      "Training R-squared: 99.03%\n",
      "Test Mean Absolute Error: 0.00\n",
      "Test R-squared: 99.26%\n"
     ]
    }
   ],
   "source": [
    "fit_and_print(p1)"
   ]
  },
  {
   "cell_type": "code",
   "execution_count": 34,
   "metadata": {},
   "outputs": [],
   "source": [
    "# Perform Grid search\n",
    "from sklearn.model_selection import GridSearchCV\n",
    "from sklearn.neighbors import KNeighborsRegressor as KNR\n",
    "\n",
    "# Create a KNN Regressor\n",
    "knn = KNR()\n",
    "\n",
    "# Define Hyperparameters to tune\n",
    "param_grid = {\n",
    "    'n_neighbors': [3,5,7,9,11]\n",
    "}\n",
    "\n",
    "# Perform Grid Search\n",
    "grid_search = GridSearchCV(estimator=knn, param_grid=param_grid,\n",
    "                          scoring='neg_mean_squared_error', cv=5)\n",
    "# Fit Grid Search to Data\n",
    "grid_search.fit(X_train, y_train)\n",
    "# Retrieve Best Parameters\n",
    "best_params = grid_search.best_params_\n",
    "best_estimator = grid_search.best_estimator_"
   ]
  },
  {
   "cell_type": "code",
   "execution_count": 35,
   "metadata": {},
   "outputs": [
    {
     "name": "stdout",
     "output_type": "stream",
     "text": [
      "best_params:  {'n_neighbors': 3} \n",
      "best_estimator:  KNeighborsRegressor(n_neighbors=3)\n"
     ]
    }
   ],
   "source": [
    "print(\"best_params: \", best_params, \"\\nbest_estimator: \", best_estimator)"
   ]
  },
  {
   "cell_type": "code",
   "execution_count": 36,
   "metadata": {},
   "outputs": [
    {
     "name": "stdout",
     "output_type": "stream",
     "text": [
      "Training Mean Absolute Error: 0.00\n",
      "Training R-squared: 99.84%\n",
      "Test Mean Absolute Error: 0.00\n",
      "Test R-squared: 99.64%\n"
     ]
    }
   ],
   "source": [
    "p2 = Pipeline([('Scaler', preprocessor_transformer),\n",
    "               ('KNN Regression', KNR(n_neighbors=3))])\n",
    "fit_and_print(p2)"
   ]
  },
  {
   "cell_type": "markdown",
   "metadata": {},
   "source": [
    "### Fit a RandomForestRegressor"
   ]
  },
  {
   "cell_type": "code",
   "execution_count": 37,
   "metadata": {},
   "outputs": [
    {
     "name": "stdout",
     "output_type": "stream",
     "text": [
      "Training Mean Absolute Error: 0.00\n",
      "Training R-squared: 98.79%\n",
      "Test Mean Absolute Error: 0.01\n",
      "Test R-squared: 92.52%\n"
     ]
    }
   ],
   "source": [
    "from sklearn.ensemble import RandomForestRegressor\n",
    "p3 = Pipeline([('Scaler', preprocessor_transformer),\n",
    "               ('RFR Regression', RandomForestRegressor())])\n",
    "fit_and_print(p3)"
   ]
  },
  {
   "cell_type": "markdown",
   "metadata": {},
   "source": [
    "### Fit SVM Regressor"
   ]
  },
  {
   "cell_type": "code",
   "execution_count": 38,
   "metadata": {},
   "outputs": [
    {
     "name": "stdout",
     "output_type": "stream",
     "text": [
      "Training Mean Absolute Error: 0.08\n",
      "Training R-squared: -125.75%\n",
      "Test Mean Absolute Error: 0.08\n",
      "Test R-squared: -69.67%\n"
     ]
    }
   ],
   "source": [
    "from sklearn.svm import SVR\n",
    "p4 = Pipeline([('Scaler', preprocessor_transformer),\n",
    "               ('SVR Regression', SVR(kernel=\"rbf\"))])\n",
    "fit_and_print(p4)"
   ]
  },
  {
   "cell_type": "markdown",
   "metadata": {},
   "source": [
    "### Fit a Gradient Boosting Regressor"
   ]
  },
  {
   "cell_type": "code",
   "execution_count": 39,
   "metadata": {},
   "outputs": [
    {
     "name": "stdout",
     "output_type": "stream",
     "text": [
      "Training Mean Absolute Error: 0.01\n",
      "Training R-squared: 95.03%\n",
      "Test Mean Absolute Error: 0.01\n",
      "Test R-squared: 92.87%\n"
     ]
    }
   ],
   "source": [
    "from sklearn.ensemble import GradientBoostingRegressor\n",
    "p5 = Pipeline([('Scaler', preprocessor_transformer),\n",
    "               ('GBR Regression', GradientBoostingRegressor())])\n",
    "fit_and_print(p5)"
   ]
  },
  {
   "cell_type": "markdown",
   "metadata": {},
   "source": [
    "### Fit XGBOOST Regressor"
   ]
  },
  {
   "cell_type": "code",
   "execution_count": 40,
   "metadata": {},
   "outputs": [
    {
     "name": "stdout",
     "output_type": "stream",
     "text": [
      "Training Mean Absolute Error: 0.00\n",
      "Training R-squared: 99.47%\n",
      "Test Mean Absolute Error: 0.01\n",
      "Test R-squared: 94.03%\n"
     ]
    }
   ],
   "source": [
    "from xgboost import XGBRegressor\n",
    "\n",
    "p5 = Pipeline([('Scaler', preprocessor_transformer),\n",
    "               ('XGBR Regression', XGBRegressor())])\n",
    "fit_and_print(p5)"
   ]
  },
  {
   "cell_type": "markdown",
   "metadata": {},
   "source": [
    "## The best Performing model - KNN regressor\n",
    "KNN was the best performing regressor with the following results:\n",
    "\n",
    "```python\n",
    "Training Mean Absolute Error: 0.00\n",
    "Training R-squared: 99.79%\n",
    "Test Mean Absolute Error: 0.00\n",
    "Test R-squared: 99.80%\n",
    "```"
   ]
  },
  {
   "cell_type": "code",
   "execution_count": 41,
   "metadata": {},
   "outputs": [
    {
     "name": "stdout",
     "output_type": "stream",
     "text": [
      "Values in train_unique but not in test_unique: {'NGC 5253'}\n",
      "Values in test_unique but not in train_unique: set()\n"
     ]
    }
   ],
   "source": [
    "train_data.drop('ID', axis=1, inplace=True)\n",
    "\n",
    "# Assuming train_data and testing_data are your pandas DataFrames\n",
    "# and 'galaxy' is a column in both DataFrames\n",
    "\n",
    "# Get the unique values of 'galaxy' column in the training and testing datasets\n",
    "train_unique = train_data['galaxy'].unique()\n",
    "test_unique = testing_data['galaxy'].unique()\n",
    "\n",
    "# Find values that are in train_unique but not in test_unique\n",
    "not_in_test = set(train_unique) - set(test_unique)\n",
    "\n",
    "# Find values that are in test_unique but not in train_unique\n",
    "not_in_train = set(test_unique) - set(train_unique)\n",
    "\n",
    "print(\"Values in train_unique but not in test_unique:\", not_in_test)\n",
    "print(\"Values in test_unique but not in train_unique:\", not_in_train)\n"
   ]
  },
  {
   "cell_type": "code",
   "execution_count": 42,
   "metadata": {},
   "outputs": [],
   "source": [
    "import pandas as pd\n",
    "\n",
    "# Assuming train_data and test_data are your pandas DataFrames\n",
    "\n",
    "# Identify unique categories across both datasets\n",
    "all_categories = set(train_data['galaxy']).union(set(testing_data['galaxy']))\n",
    "\n",
    "# Reindex both datasets to include all unique categories\n",
    "train_data_reindexed = train_data.reindex(columns=all_categories, fill_value=0)\n",
    "test_data_reindexed = testing_data.reindex(columns=all_categories, fill_value=0)\n",
    "\n",
    "\n",
    "# Perform one-hot encoding using pd.get_dummies()\n",
    "train_encoded = pd.get_dummies(train_data_reindexed, drop_first=True)\n",
    "test_encoded = pd.get_dummies(test_data_reindexed, drop_first=True)\n",
    "\n",
    "other_cols = train_data.drop(['galaxy', 'Well-Being Index'], axis=1).columns.to_list()\n",
    "\n",
    "train_encoded[other_cols] = train_data[other_cols]\n",
    "test_encoded[other_cols] = testing_data[other_cols]\n",
    "\n",
    "y = train_data['Well-Being Index']\n",
    "\n",
    "# Now train_encoded and test_encoded contain one-hot encoded representation\n",
    "# Make sure you handle other columns appropriately as needed"
   ]
  },
  {
   "cell_type": "code",
   "execution_count": 43,
   "metadata": {},
   "outputs": [],
   "source": [
    "# Standardize the Data\n",
    "sc = StandardScaler()\n",
    "train = sc.fit_transform(train_encoded)\n",
    "test = sc.transform(test_encoded)\n",
    "\n",
    "# Create KNN regressor with the best parameters\n",
    "knn_regressor = KNR(n_neighbors=3)\n",
    "\n",
    "knn_regressor.fit(train, y)\n",
    "\n",
    "# Making test predictions\n",
    "predictions = knn_regressor.predict(test)"
   ]
  },
  {
   "cell_type": "code",
   "execution_count": 44,
   "metadata": {},
   "outputs": [],
   "source": [
    "validation = pd.read_csv('./Data/validation.csv')\n",
    "validation['Predicted Well-Being Index'] = predictions"
   ]
  },
  {
   "cell_type": "code",
   "execution_count": 45,
   "metadata": {},
   "outputs": [],
   "source": [
    "validation.to_csv('validation_data_with_predictions.csv', index=False)"
   ]
  }
 ],
 "metadata": {
  "kernelspec": {
   "display_name": "Python 3 (ipykernel)",
   "language": "python",
   "name": "python3"
  },
  "language_info": {
   "codemirror_mode": {
    "name": "ipython",
    "version": 3
   },
   "file_extension": ".py",
   "mimetype": "text/x-python",
   "name": "python",
   "nbconvert_exporter": "python",
   "pygments_lexer": "ipython3",
   "version": "3.9.0"
  }
 },
 "nbformat": 4,
 "nbformat_minor": 4
}
